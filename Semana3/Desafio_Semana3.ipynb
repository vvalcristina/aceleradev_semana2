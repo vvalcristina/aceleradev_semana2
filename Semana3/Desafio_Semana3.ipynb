{
 "cells": [
  {
   "cell_type": "markdown",
   "metadata": {},
   "source": [
    "## Desafio Codenation - Semana 3"
   ]
  },
  {
   "cell_type": "code",
   "execution_count": 1,
   "metadata": {},
   "outputs": [],
   "source": [
    "import pandas as pd"
   ]
  },
  {
   "cell_type": "code",
   "execution_count": 2,
   "metadata": {},
   "outputs": [],
   "source": [
    "import numpy as np"
   ]
  },
  {
   "cell_type": "code",
   "execution_count": 4,
   "metadata": {},
   "outputs": [],
   "source": [
    "#Importando dadps\n",
    "df = pd.read_csv('data/desafio1.csv', index_col= 'RowNumber')"
   ]
  },
  {
   "cell_type": "code",
   "execution_count": 5,
   "metadata": {},
   "outputs": [
    {
     "data": {
      "text/html": [
       "<div>\n",
       "<style scoped>\n",
       "    .dataframe tbody tr th:only-of-type {\n",
       "        vertical-align: middle;\n",
       "    }\n",
       "\n",
       "    .dataframe tbody tr th {\n",
       "        vertical-align: top;\n",
       "    }\n",
       "\n",
       "    .dataframe thead th {\n",
       "        text-align: right;\n",
       "    }\n",
       "</style>\n",
       "<table border=\"1\" class=\"dataframe\">\n",
       "  <thead>\n",
       "    <tr style=\"text-align: right;\">\n",
       "      <th></th>\n",
       "      <th>id</th>\n",
       "      <th>sobrenome</th>\n",
       "      <th>pontuacao_credito</th>\n",
       "      <th>estado_residencia</th>\n",
       "      <th>genero</th>\n",
       "      <th>idade</th>\n",
       "      <th>nivel_estabilidade</th>\n",
       "      <th>saldo_conta</th>\n",
       "      <th>numero_produtos</th>\n",
       "      <th>possui_cartao_de_credito</th>\n",
       "      <th>membro_ativo</th>\n",
       "    </tr>\n",
       "    <tr>\n",
       "      <th>RowNumber</th>\n",
       "      <th></th>\n",
       "      <th></th>\n",
       "      <th></th>\n",
       "      <th></th>\n",
       "      <th></th>\n",
       "      <th></th>\n",
       "      <th></th>\n",
       "      <th></th>\n",
       "      <th></th>\n",
       "      <th></th>\n",
       "      <th></th>\n",
       "    </tr>\n",
       "  </thead>\n",
       "  <tbody>\n",
       "    <tr>\n",
       "      <th>1</th>\n",
       "      <td>e7f44fcbd380d4cef7e6c232cc7e37895c3fd197</td>\n",
       "      <td>6d6e0aa1b9b413e442e2fb68df14b4fc3f91de50</td>\n",
       "      <td>619</td>\n",
       "      <td>SC</td>\n",
       "      <td>F</td>\n",
       "      <td>42</td>\n",
       "      <td>2</td>\n",
       "      <td>0.00</td>\n",
       "      <td>1</td>\n",
       "      <td>1</td>\n",
       "      <td>1</td>\n",
       "    </tr>\n",
       "    <tr>\n",
       "      <th>2</th>\n",
       "      <td>28dcb083ad90512da16b9430085c2cddb8ca5e12</td>\n",
       "      <td>48e1ad846796fa314f1b4a6702b83343eb5482c5</td>\n",
       "      <td>608</td>\n",
       "      <td>RS</td>\n",
       "      <td>F</td>\n",
       "      <td>41</td>\n",
       "      <td>1</td>\n",
       "      <td>83807.86</td>\n",
       "      <td>1</td>\n",
       "      <td>0</td>\n",
       "      <td>1</td>\n",
       "    </tr>\n",
       "    <tr>\n",
       "      <th>3</th>\n",
       "      <td>774bc378f787438c9c7594e536787d07a097a54b</td>\n",
       "      <td>f2b29d5d934de615812b697132e767dea0f1e9e2</td>\n",
       "      <td>502</td>\n",
       "      <td>SC</td>\n",
       "      <td>F</td>\n",
       "      <td>42</td>\n",
       "      <td>8</td>\n",
       "      <td>159660.80</td>\n",
       "      <td>3</td>\n",
       "      <td>1</td>\n",
       "      <td>0</td>\n",
       "    </tr>\n",
       "    <tr>\n",
       "      <th>4</th>\n",
       "      <td>043a71326f7096de155e7f0c559dc62b5e4b7239</td>\n",
       "      <td>85d5c9da7cddd8109ad32a6c348fe2bb10bf99f2</td>\n",
       "      <td>699</td>\n",
       "      <td>SC</td>\n",
       "      <td>F</td>\n",
       "      <td>39</td>\n",
       "      <td>1</td>\n",
       "      <td>0.00</td>\n",
       "      <td>2</td>\n",
       "      <td>0</td>\n",
       "      <td>0</td>\n",
       "    </tr>\n",
       "    <tr>\n",
       "      <th>5</th>\n",
       "      <td>37b3bb8ca243955fb3605ec7e1c2a4607cdb3b22</td>\n",
       "      <td>ddc89c837a6933639de75f28171057060bd322df</td>\n",
       "      <td>850</td>\n",
       "      <td>RS</td>\n",
       "      <td>F</td>\n",
       "      <td>43</td>\n",
       "      <td>2</td>\n",
       "      <td>125510.82</td>\n",
       "      <td>1</td>\n",
       "      <td>1</td>\n",
       "      <td>1</td>\n",
       "    </tr>\n",
       "  </tbody>\n",
       "</table>\n",
       "</div>"
      ],
      "text/plain": [
       "                                                 id  \\\n",
       "RowNumber                                             \n",
       "1          e7f44fcbd380d4cef7e6c232cc7e37895c3fd197   \n",
       "2          28dcb083ad90512da16b9430085c2cddb8ca5e12   \n",
       "3          774bc378f787438c9c7594e536787d07a097a54b   \n",
       "4          043a71326f7096de155e7f0c559dc62b5e4b7239   \n",
       "5          37b3bb8ca243955fb3605ec7e1c2a4607cdb3b22   \n",
       "\n",
       "                                          sobrenome  pontuacao_credito  \\\n",
       "RowNumber                                                                \n",
       "1          6d6e0aa1b9b413e442e2fb68df14b4fc3f91de50                619   \n",
       "2          48e1ad846796fa314f1b4a6702b83343eb5482c5                608   \n",
       "3          f2b29d5d934de615812b697132e767dea0f1e9e2                502   \n",
       "4          85d5c9da7cddd8109ad32a6c348fe2bb10bf99f2                699   \n",
       "5          ddc89c837a6933639de75f28171057060bd322df                850   \n",
       "\n",
       "          estado_residencia genero  idade  nivel_estabilidade  saldo_conta  \\\n",
       "RowNumber                                                                    \n",
       "1                        SC      F     42                   2         0.00   \n",
       "2                        RS      F     41                   1     83807.86   \n",
       "3                        SC      F     42                   8    159660.80   \n",
       "4                        SC      F     39                   1         0.00   \n",
       "5                        RS      F     43                   2    125510.82   \n",
       "\n",
       "           numero_produtos  possui_cartao_de_credito  membro_ativo  \n",
       "RowNumber                                                           \n",
       "1                        1                         1             1  \n",
       "2                        1                         0             1  \n",
       "3                        3                         1             0  \n",
       "4                        2                         0             0  \n",
       "5                        1                         1             1  "
      ]
     },
     "execution_count": 5,
     "metadata": {},
     "output_type": "execute_result"
    }
   ],
   "source": [
    "df.head()"
   ]
  },
  {
   "cell_type": "code",
   "execution_count": 6,
   "metadata": {},
   "outputs": [
    {
     "name": "stdout",
     "output_type": "stream",
     "text": [
      "<class 'pandas.core.frame.DataFrame'>\n",
      "Int64Index: 7000 entries, 1 to 7000\n",
      "Data columns (total 11 columns):\n",
      " #   Column                    Non-Null Count  Dtype  \n",
      "---  ------                    --------------  -----  \n",
      " 0   id                        7000 non-null   object \n",
      " 1   sobrenome                 7000 non-null   object \n",
      " 2   pontuacao_credito         7000 non-null   int64  \n",
      " 3   estado_residencia         7000 non-null   object \n",
      " 4   genero                    7000 non-null   object \n",
      " 5   idade                     7000 non-null   int64  \n",
      " 6   nivel_estabilidade        7000 non-null   int64  \n",
      " 7   saldo_conta               7000 non-null   float64\n",
      " 8   numero_produtos           7000 non-null   int64  \n",
      " 9   possui_cartao_de_credito  7000 non-null   int64  \n",
      " 10  membro_ativo              7000 non-null   int64  \n",
      "dtypes: float64(1), int64(6), object(4)\n",
      "memory usage: 656.2+ KB\n"
     ]
    }
   ],
   "source": [
    "df.info()"
   ]
  },
  {
   "cell_type": "code",
   "execution_count": 7,
   "metadata": {},
   "outputs": [
    {
     "data": {
      "text/plain": [
       "Index(['id', 'sobrenome', 'pontuacao_credito', 'estado_residencia', 'genero',\n",
       "       'idade', 'nivel_estabilidade', 'saldo_conta', 'numero_produtos',\n",
       "       'possui_cartao_de_credito', 'membro_ativo'],\n",
       "      dtype='object')"
      ]
     },
     "execution_count": 7,
     "metadata": {},
     "output_type": "execute_result"
    }
   ],
   "source": [
    "#Nenhuma variável nula\n",
    "df.columns"
   ]
  },
  {
   "cell_type": "code",
   "execution_count": 8,
   "metadata": {},
   "outputs": [],
   "source": [
    "#Série com pandas de uma série Pandas\n",
    "resposta_json = df.groupby(['estado_residencia']).agg({'pontuacao_credito': [pd.Series.mode, 'median','mean','std']})\n"
   ]
  },
  {
   "cell_type": "code",
   "execution_count": 9,
   "metadata": {},
   "outputs": [],
   "source": [
    "#Renomeando as colunas\n",
    "resposta_json.columns = [\n",
    "    'moda',\n",
    "    'mediana',\n",
    "    'media',\n",
    "    'desvio_padrao']\n"
   ]
  },
  {
   "cell_type": "code",
   "execution_count": 10,
   "metadata": {},
   "outputs": [
    {
     "data": {
      "text/html": [
       "<div>\n",
       "<style scoped>\n",
       "    .dataframe tbody tr th:only-of-type {\n",
       "        vertical-align: middle;\n",
       "    }\n",
       "\n",
       "    .dataframe tbody tr th {\n",
       "        vertical-align: top;\n",
       "    }\n",
       "\n",
       "    .dataframe thead th {\n",
       "        text-align: right;\n",
       "    }\n",
       "</style>\n",
       "<table border=\"1\" class=\"dataframe\">\n",
       "  <thead>\n",
       "    <tr style=\"text-align: right;\">\n",
       "      <th></th>\n",
       "      <th>moda</th>\n",
       "      <th>mediana</th>\n",
       "      <th>media</th>\n",
       "      <th>desvio_padrao</th>\n",
       "    </tr>\n",
       "    <tr>\n",
       "      <th>estado_residencia</th>\n",
       "      <th></th>\n",
       "      <th></th>\n",
       "      <th></th>\n",
       "      <th></th>\n",
       "    </tr>\n",
       "  </thead>\n",
       "  <tbody>\n",
       "    <tr>\n",
       "      <th>PR</th>\n",
       "      <td>850</td>\n",
       "      <td>650</td>\n",
       "      <td>648.961294</td>\n",
       "      <td>98.607186</td>\n",
       "    </tr>\n",
       "    <tr>\n",
       "      <th>RS</th>\n",
       "      <td>850</td>\n",
       "      <td>650</td>\n",
       "      <td>651.105143</td>\n",
       "      <td>95.136598</td>\n",
       "    </tr>\n",
       "    <tr>\n",
       "      <th>SC</th>\n",
       "      <td>850</td>\n",
       "      <td>653</td>\n",
       "      <td>649.537653</td>\n",
       "      <td>97.233493</td>\n",
       "    </tr>\n",
       "  </tbody>\n",
       "</table>\n",
       "</div>"
      ],
      "text/plain": [
       "                   moda  mediana       media  desvio_padrao\n",
       "estado_residencia                                          \n",
       "PR                  850      650  648.961294      98.607186\n",
       "RS                  850      650  651.105143      95.136598\n",
       "SC                  850      653  649.537653      97.233493"
      ]
     },
     "execution_count": 10,
     "metadata": {},
     "output_type": "execute_result"
    }
   ],
   "source": [
    "resposta_json"
   ]
  },
  {
   "cell_type": "code",
   "execution_count": 11,
   "metadata": {},
   "outputs": [],
   "source": [
    "#Submissão do Json\n",
    "resposta_json.transpose().to_json('submission.json')\n"
   ]
  },
  {
   "cell_type": "code",
   "execution_count": null,
   "metadata": {},
   "outputs": [],
   "source": []
  }
 ],
 "metadata": {
  "kernelspec": {
   "display_name": "Python 3",
   "language": "python",
   "name": "python3"
  },
  "language_info": {
   "codemirror_mode": {
    "name": "ipython",
    "version": 3
   },
   "file_extension": ".py",
   "mimetype": "text/x-python",
   "name": "python",
   "nbconvert_exporter": "python",
   "pygments_lexer": "ipython3",
   "version": "3.7.6"
  }
 },
 "nbformat": 4,
 "nbformat_minor": 4
}
